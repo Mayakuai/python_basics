{
 "cells": [
  {
   "cell_type": "markdown",
   "id": "b1f546b2",
   "metadata": {},
   "source": [
    "Control flow"
   ]
  },
  {
   "cell_type": "markdown",
   "id": "b675ccba",
   "metadata": {},
   "source": [
    "We often only want certain code to execute when a particular condition has been met."
   ]
  },
  {
   "cell_type": "markdown",
   "id": "f0a2732e",
   "metadata": {},
   "source": [
    "For example, if my dog is hungry (some condition), then I will feed the dog (some action)"
   ]
  },
  {
   "cell_type": "markdown",
   "id": "fcfb7ab8",
   "metadata": {},
   "source": [
    "To control this flow of logic we use some keywords: \n",
    "            if  elif  else"
   ]
  },
  {
   "cell_type": "markdown",
   "id": "80bb485d",
   "metadata": {},
   "source": [
    "Control flow syntax makes use of colons and indentations (whitespaces)."
   ]
  },
  {
   "cell_type": "markdown",
   "id": "02085fbe",
   "metadata": {},
   "source": [
    "This indentation system is crucial to Python and is what sets it apart from other programming languages. "
   ]
  },
  {
   "cell_type": "markdown",
   "id": "6818d138",
   "metadata": {},
   "source": [
    "Syntax of an if/else statement\n",
    "        "
   ]
  },
  {
   "cell_type": "code",
   "execution_count": 2,
   "id": "d931834d",
   "metadata": {},
   "outputs": [],
   "source": [
    "#        if some_condition:\n",
    "#            # execute some code\n",
    "#        elif some_other_condition:\n",
    "#            # do something different\n",
    "#        else:\n",
    "#            # do something else "
   ]
  },
  {
   "cell_type": "code",
   "execution_count": 3,
   "id": "b14203a0",
   "metadata": {},
   "outputs": [
    {
     "name": "stdout",
     "output_type": "stream",
     "text": [
      "IT'S TRUE\n"
     ]
    }
   ],
   "source": [
    "if True:\n",
    "    print(\"IT'S TRUE\")"
   ]
  },
  {
   "cell_type": "code",
   "execution_count": 4,
   "id": "0a76ddad",
   "metadata": {},
   "outputs": [
    {
     "name": "stdout",
     "output_type": "stream",
     "text": [
      "IT's TRUE\n"
     ]
    }
   ],
   "source": [
    "if 3 > 2:\n",
    "    print(\"IT's TRUE\")"
   ]
  },
  {
   "cell_type": "code",
   "execution_count": 5,
   "id": "b09fe143",
   "metadata": {},
   "outputs": [
    {
     "name": "stdout",
     "output_type": "stream",
     "text": [
      "Feed me!\n"
     ]
    }
   ],
   "source": [
    "hungery = True\n",
    "\n",
    "if hungery:\n",
    "    print(\"Feed me!\")"
   ]
  },
  {
   "cell_type": "code",
   "execution_count": 7,
   "id": "c1fb2709",
   "metadata": {},
   "outputs": [
    {
     "name": "stdout",
     "output_type": "stream",
     "text": [
      "Im not hungery\n"
     ]
    }
   ],
   "source": [
    "hungery = False\n",
    "\n",
    "if hungery:\n",
    "    print(\"Feed me!\")\n",
    "else:\n",
    "    print('Im not hungery')"
   ]
  },
  {
   "cell_type": "code",
   "execution_count": 12,
   "id": "b2fd6260",
   "metadata": {},
   "outputs": [
    {
     "name": "stdout",
     "output_type": "stream",
     "text": [
      "Money is cool!\n"
     ]
    }
   ],
   "source": [
    "loc = 'Bank'\n",
    "\n",
    "if loc == 'Auto Shop':\n",
    "    print('Cars are cool!')\n",
    "elif loc == \"Bank\":\n",
    "    print(\"Money is cool!\")\n",
    "elif loc == \"Store\":\n",
    "    print('welcome to the store')\n",
    "else:\n",
    "    print('I do not know much.')"
   ]
  },
  {
   "cell_type": "code",
   "execution_count": 15,
   "id": "ed9e3d7f",
   "metadata": {},
   "outputs": [
    {
     "name": "stdout",
     "output_type": "stream",
     "text": [
      "what is your name?\n"
     ]
    }
   ],
   "source": [
    "name = \"Jose\"\n",
    "\n",
    "if name == 'Frankie':\n",
    "    print('Hello Frankie!')\n",
    "elif name == \"Sammy\":\n",
    "    print(\"Hello Sammy\")\n",
    "else:\n",
    "    print('what is your name?')\n"
   ]
  },
  {
   "cell_type": "code",
   "execution_count": null,
   "id": "3576edb3",
   "metadata": {},
   "outputs": [],
   "source": []
  }
 ],
 "metadata": {
  "kernelspec": {
   "display_name": "Python 3 (ipykernel)",
   "language": "python",
   "name": "python3"
  },
  "language_info": {
   "codemirror_mode": {
    "name": "ipython",
    "version": 3
   },
   "file_extension": ".py",
   "mimetype": "text/x-python",
   "name": "python",
   "nbconvert_exporter": "python",
   "pygments_lexer": "ipython3",
   "version": "3.10.9"
  }
 },
 "nbformat": 4,
 "nbformat_minor": 5
}
