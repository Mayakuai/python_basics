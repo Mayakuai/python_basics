{
 "cells": [
  {
   "cell_type": "code",
   "execution_count": 2,
   "id": "63a6c1f4",
   "metadata": {},
   "outputs": [],
   "source": [
    "mystring = 'hello'"
   ]
  },
  {
   "cell_type": "code",
   "execution_count": 3,
   "id": "dcffa9af",
   "metadata": {},
   "outputs": [],
   "source": [
    "mylist = []\n",
    "\n",
    "for letter in mystring:\n",
    "    mylist.append(letter)"
   ]
  },
  {
   "cell_type": "code",
   "execution_count": 4,
   "id": "41e75f9d",
   "metadata": {},
   "outputs": [
    {
     "data": {
      "text/plain": [
       "['h', 'e', 'l', 'l', 'o']"
      ]
     },
     "execution_count": 4,
     "metadata": {},
     "output_type": "execute_result"
    }
   ],
   "source": [
    "mylist"
   ]
  },
  {
   "cell_type": "code",
   "execution_count": 8,
   "id": "02e7d2b6",
   "metadata": {},
   "outputs": [],
   "source": [
    "mylist = [m for m in mystring]\n"
   ]
  },
  {
   "cell_type": "code",
   "execution_count": 9,
   "id": "e7b09feb",
   "metadata": {},
   "outputs": [
    {
     "data": {
      "text/plain": [
       "['h', 'e', 'l', 'l', 'o']"
      ]
     },
     "execution_count": 9,
     "metadata": {},
     "output_type": "execute_result"
    }
   ],
   "source": [
    "mylist"
   ]
  },
  {
   "cell_type": "code",
   "execution_count": 1,
   "id": "5cca2745",
   "metadata": {},
   "outputs": [],
   "source": [
    "mylist = [x for x in \"word\"]"
   ]
  },
  {
   "cell_type": "code",
   "execution_count": 2,
   "id": "75a3b8d9",
   "metadata": {},
   "outputs": [
    {
     "data": {
      "text/plain": [
       "['w', 'o', 'r', 'd']"
      ]
     },
     "execution_count": 2,
     "metadata": {},
     "output_type": "execute_result"
    }
   ],
   "source": [
    "mylist"
   ]
  },
  {
   "cell_type": "code",
   "execution_count": 5,
   "id": "22c50161",
   "metadata": {},
   "outputs": [],
   "source": [
    "mylist = [num for num in range(0,11)]"
   ]
  },
  {
   "cell_type": "code",
   "execution_count": 6,
   "id": "1db730e2",
   "metadata": {},
   "outputs": [
    {
     "data": {
      "text/plain": [
       "[0, 1, 2, 3, 4, 5, 6, 7, 8, 9, 10]"
      ]
     },
     "execution_count": 6,
     "metadata": {},
     "output_type": "execute_result"
    }
   ],
   "source": [
    "mylist"
   ]
  },
  {
   "cell_type": "code",
   "execution_count": 9,
   "id": "4bea45a3",
   "metadata": {},
   "outputs": [],
   "source": [
    "mylist = [num**2 for num in range(0,11)]   #can run another operationg on the the first varriable ie Squaring the list"
   ]
  },
  {
   "cell_type": "code",
   "execution_count": 8,
   "id": "e1d5e605",
   "metadata": {},
   "outputs": [
    {
     "data": {
      "text/plain": [
       "[0, 1, 4, 9, 16, 25, 36, 49, 64, 81, 100]"
      ]
     },
     "execution_count": 8,
     "metadata": {},
     "output_type": "execute_result"
    }
   ],
   "source": [
    "mylist"
   ]
  },
  {
   "cell_type": "code",
   "execution_count": 16,
   "id": "562945b3",
   "metadata": {},
   "outputs": [],
   "source": [
    "mylist = [x for x in range(0,11) if x%2==0] #adding an if statment for even numbers "
   ]
  },
  {
   "cell_type": "code",
   "execution_count": 17,
   "id": "60147877",
   "metadata": {},
   "outputs": [
    {
     "data": {
      "text/plain": [
       "[0, 2, 4, 6, 8, 10]"
      ]
     },
     "execution_count": 17,
     "metadata": {},
     "output_type": "execute_result"
    }
   ],
   "source": [
    "mylist"
   ]
  },
  {
   "cell_type": "code",
   "execution_count": 18,
   "id": "9fb75965",
   "metadata": {},
   "outputs": [],
   "source": [
    "celcius = [0,10,20,34.5, 41]\n",
    "\n",
    "fahrenheit = [( (9/5)*temp + 32) for temp in celcius]"
   ]
  },
  {
   "cell_type": "code",
   "execution_count": 19,
   "id": "999e78fd",
   "metadata": {},
   "outputs": [
    {
     "data": {
      "text/plain": [
       "[32.0, 50.0, 68.0, 94.1, 105.8]"
      ]
     },
     "execution_count": 19,
     "metadata": {},
     "output_type": "execute_result"
    }
   ],
   "source": [
    "fahrenheit"
   ]
  },
  {
   "cell_type": "markdown",
   "id": "2013f3a6",
   "metadata": {},
   "source": [
    "same as using a for loop"
   ]
  },
  {
   "cell_type": "code",
   "execution_count": 20,
   "id": "734d202c",
   "metadata": {},
   "outputs": [],
   "source": [
    "fahrenheit = []\n",
    "\n",
    "for temp in celcius:\n",
    "    fahrenheit.append(( (9/5)*temp + 32))"
   ]
  },
  {
   "cell_type": "code",
   "execution_count": 21,
   "id": "8e96b80e",
   "metadata": {},
   "outputs": [
    {
     "data": {
      "text/plain": [
       "[32.0, 50.0, 68.0, 94.1, 105.8]"
      ]
     },
     "execution_count": 21,
     "metadata": {},
     "output_type": "execute_result"
    }
   ],
   "source": [
    "fahrenheit"
   ]
  },
  {
   "cell_type": "markdown",
   "id": "66fb8c7d",
   "metadata": {},
   "source": [
    "if else statement can by tricky to read in list comprehension"
   ]
  },
  {
   "cell_type": "code",
   "execution_count": 22,
   "id": "5d1d0736",
   "metadata": {},
   "outputs": [],
   "source": [
    "results = [x if x%2==0 else 'Odd' for x in range(0,11)]"
   ]
  },
  {
   "cell_type": "code",
   "execution_count": 23,
   "id": "e6983246",
   "metadata": {},
   "outputs": [
    {
     "data": {
      "text/plain": [
       "[0, 'Odd', 2, 'Odd', 4, 'Odd', 6, 'Odd', 8, 'Odd', 10]"
      ]
     },
     "execution_count": 23,
     "metadata": {},
     "output_type": "execute_result"
    }
   ],
   "source": [
    "results"
   ]
  },
  {
   "cell_type": "code",
   "execution_count": 25,
   "id": "825cfdb1",
   "metadata": {},
   "outputs": [],
   "source": [
    "mylist = []\n",
    "\n",
    "for x in [2,4,6]:\n",
    "    for y in [1, 10, 100]:\n",
    "        mylist.append(x*y)"
   ]
  },
  {
   "cell_type": "code",
   "execution_count": 26,
   "id": "46cc49ee",
   "metadata": {},
   "outputs": [
    {
     "data": {
      "text/plain": [
       "[2, 20, 200, 4, 40, 400, 6, 60, 600]"
      ]
     },
     "execution_count": 26,
     "metadata": {},
     "output_type": "execute_result"
    }
   ],
   "source": [
    "mylist"
   ]
  },
  {
   "cell_type": "code",
   "execution_count": 27,
   "id": "e6a7d29c",
   "metadata": {},
   "outputs": [],
   "source": [
    "mylist = [x*y for x in [2,4,6] for y in [1,10,100]]"
   ]
  },
  {
   "cell_type": "code",
   "execution_count": 28,
   "id": "6d8854a1",
   "metadata": {},
   "outputs": [
    {
     "data": {
      "text/plain": [
       "[2, 20, 200, 4, 40, 400, 6, 60, 600]"
      ]
     },
     "execution_count": 28,
     "metadata": {},
     "output_type": "execute_result"
    }
   ],
   "source": [
    "mylist"
   ]
  },
  {
   "cell_type": "code",
   "execution_count": null,
   "id": "daa80c00",
   "metadata": {},
   "outputs": [],
   "source": []
  }
 ],
 "metadata": {
  "kernelspec": {
   "display_name": "Python 3 (ipykernel)",
   "language": "python",
   "name": "python3"
  },
  "language_info": {
   "codemirror_mode": {
    "name": "ipython",
    "version": 3
   },
   "file_extension": ".py",
   "mimetype": "text/x-python",
   "name": "python",
   "nbconvert_exporter": "python",
   "pygments_lexer": "ipython3",
   "version": "3.10.9"
  }
 },
 "nbformat": 4,
 "nbformat_minor": 5
}
