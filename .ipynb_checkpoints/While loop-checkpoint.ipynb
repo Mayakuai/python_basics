{
 "cells": [
  {
   "cell_type": "markdown",
   "id": "e1ede680",
   "metadata": {},
   "source": [
    "While loops will contineue to execute a block of code \"while\" some condition remains True."
   ]
  },
  {
   "cell_type": "markdown",
   "id": "c01a382a",
   "metadata": {},
   "source": [
    "For example, \"while\" my poll is not full, keep filling my pool with water."
   ]
  },
  {
   "cell_type": "markdown",
   "id": "241f6de5",
   "metadata": {},
   "source": [
    "Or \"while\" my dogs are still hungry, keep feeding my dogs."
   ]
  },
  {
   "cell_type": "code",
   "execution_count": 2,
   "id": "e5f0c7ff",
   "metadata": {},
   "outputs": [],
   "source": [
    "#       while some_boolean_condition:\n",
    "#            #do something\n",
    "#"
   ]
  },
  {
   "cell_type": "code",
   "execution_count": 3,
   "id": "e178e420",
   "metadata": {},
   "outputs": [],
   "source": [
    "#       while some_boolean_condition:\n",
    "#            #do something\n",
    "#       else:\n",
    "#            #do something\n",
    "#"
   ]
  },
  {
   "cell_type": "code",
   "execution_count": 19,
   "id": "4a210a74",
   "metadata": {},
   "outputs": [
    {
     "name": "stdout",
     "output_type": "stream",
     "text": [
      "The current value of x is 0\n",
      "The current value of x is 1\n",
      "The current value of x is 2\n",
      "The current value of x is 3\n",
      "The current value of x is 4\n"
     ]
    }
   ],
   "source": [
    "x = 0\n",
    "\n",
    "while x < 5:\n",
    "    print(f'The current value of x is {x}')\n",
    "    x = x + 1   \n",
    "    \n",
    "    # also x+= 1 "
   ]
  },
  {
   "cell_type": "code",
   "execution_count": 20,
   "id": "abf8b520",
   "metadata": {},
   "outputs": [
    {
     "name": "stdout",
     "output_type": "stream",
     "text": [
      "The current value of x is 0\n",
      "The current value of x is 1\n",
      "The current value of x is 2\n",
      "The current value of x is 3\n",
      "The current value of x is 4\n",
      "X is not less than 5\n"
     ]
    }
   ],
   "source": [
    "x = 0\n",
    "\n",
    "while x < 5:\n",
    "    print(f'The current value of x is {x}')\n",
    "    x+= 1 \n",
    "    \n",
    "else:\n",
    "    print('X is not less than 5')"
   ]
  },
  {
   "cell_type": "code",
   "execution_count": 21,
   "id": "6625e926",
   "metadata": {},
   "outputs": [
    {
     "name": "stdout",
     "output_type": "stream",
     "text": [
      "X is not less than 5\n"
     ]
    }
   ],
   "source": [
    "x = 50\n",
    "\n",
    "while x < 5:\n",
    "    print(f'The current value of x is {x}')\n",
    "    x+= 1 \n",
    "    \n",
    "else:\n",
    "    print('X is not less than 5')"
   ]
  },
  {
   "cell_type": "markdown",
   "id": "87cb67b5",
   "metadata": {},
   "source": [
    "Break: Breaks out oif the current closest enclosing loop."
   ]
  },
  {
   "cell_type": "markdown",
   "id": "240ee351",
   "metadata": {},
   "source": [
    "Continue: Goes to the top of the closest enclosing loop."
   ]
  },
  {
   "cell_type": "markdown",
   "id": "e8f3e0ce",
   "metadata": {},
   "source": [
    "Pass: Does nothing at all."
   ]
  },
  {
   "cell_type": "code",
   "execution_count": 22,
   "id": "5ee8be45",
   "metadata": {},
   "outputs": [
    {
     "name": "stdout",
     "output_type": "stream",
     "text": [
      "end of my script\n"
     ]
    }
   ],
   "source": [
    "x = [1,2,3]\n",
    "\n",
    "for item in x:\n",
    "    #comment  used as a placeholder to avoid Syntax errors \n",
    "    pass\n",
    "\n",
    "print('end of my script')"
   ]
  },
  {
   "cell_type": "code",
   "execution_count": 23,
   "id": "fbfc1dd7",
   "metadata": {},
   "outputs": [
    {
     "name": "stdout",
     "output_type": "stream",
     "text": [
      "s\n",
      "m\n",
      "m\n",
      "y\n"
     ]
    }
   ],
   "source": [
    "mystring = \"sammy\"\n",
    "\n",
    "for letter in mystring:\n",
    "    if letter == 'a':\n",
    "        continue\n",
    "    print(letter)"
   ]
  },
  {
   "cell_type": "code",
   "execution_count": 27,
   "id": "a8550f3e",
   "metadata": {},
   "outputs": [
    {
     "name": "stdout",
     "output_type": "stream",
     "text": [
      "s\n"
     ]
    }
   ],
   "source": [
    "mystring = \"sammy\"\n",
    "\n",
    "for letter in mystring:\n",
    "    if letter == 'a':\n",
    "        break\n",
    "    print(letter)"
   ]
  },
  {
   "cell_type": "code",
   "execution_count": 28,
   "id": "9b2c5b2b",
   "metadata": {},
   "outputs": [
    {
     "name": "stdout",
     "output_type": "stream",
     "text": [
      "0\n",
      "1\n"
     ]
    }
   ],
   "source": [
    "x = 0\n",
    "\n",
    "while x < 5:\n",
    "    if x == 2:\n",
    "        break\n",
    "    print(x)\n",
    "    x +=1"
   ]
  },
  {
   "cell_type": "code",
   "execution_count": null,
   "id": "f785f38c",
   "metadata": {},
   "outputs": [],
   "source": []
  }
 ],
 "metadata": {
  "kernelspec": {
   "display_name": "Python 3 (ipykernel)",
   "language": "python",
   "name": "python3"
  },
  "language_info": {
   "codemirror_mode": {
    "name": "ipython",
    "version": 3
   },
   "file_extension": ".py",
   "mimetype": "text/x-python",
   "name": "python",
   "nbconvert_exporter": "python",
   "pygments_lexer": "ipython3",
   "version": "3.10.9"
  }
 },
 "nbformat": 4,
 "nbformat_minor": 5
}
