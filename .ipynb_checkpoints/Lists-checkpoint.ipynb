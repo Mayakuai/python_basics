{
 "cells": [
  {
   "cell_type": "markdown",
   "id": "e99867e8",
   "metadata": {},
   "source": [
    "Lists are ordered sequences that can hold a variety of objects types."
   ]
  },
  {
   "cell_type": "markdown",
   "id": "3685f50b",
   "metadata": {},
   "source": [
    "They use [] brackets and commas to separate objects in the list. [1,2,3]"
   ]
  },
  {
   "cell_type": "markdown",
   "id": "3f6e592f",
   "metadata": {},
   "source": [
    "Lists support indexing and slicing. \n",
    "Lists can be nested and also have a variety of useful methods that can be called off of them. "
   ]
  },
  {
   "cell_type": "code",
   "execution_count": 1,
   "id": "ba4845ce",
   "metadata": {},
   "outputs": [],
   "source": [
    "my_list = [1,2,3]"
   ]
  },
  {
   "cell_type": "code",
   "execution_count": 2,
   "id": "86d5c68d",
   "metadata": {},
   "outputs": [],
   "source": [
    "my_list = ['string,', 100, 32.55]"
   ]
  },
  {
   "cell_type": "code",
   "execution_count": 3,
   "id": "3547de0d",
   "metadata": {},
   "outputs": [
    {
     "data": {
      "text/plain": [
       "3"
      ]
     },
     "execution_count": 3,
     "metadata": {},
     "output_type": "execute_result"
    }
   ],
   "source": [
    "len(my_list)"
   ]
  },
  {
   "cell_type": "code",
   "execution_count": 2,
   "id": "9f783fd7",
   "metadata": {},
   "outputs": [],
   "source": [
    "mylist = ['one', 'two', \"three\"]"
   ]
  },
  {
   "cell_type": "code",
   "execution_count": 3,
   "id": "fdcfb861",
   "metadata": {},
   "outputs": [
    {
     "data": {
      "text/plain": [
       "'one'"
      ]
     },
     "execution_count": 3,
     "metadata": {},
     "output_type": "execute_result"
    }
   ],
   "source": [
    "mylist[0]"
   ]
  },
  {
   "cell_type": "code",
   "execution_count": 4,
   "id": "7d4934a4",
   "metadata": {},
   "outputs": [
    {
     "data": {
      "text/plain": [
       "['two', 'three']"
      ]
     },
     "execution_count": 4,
     "metadata": {},
     "output_type": "execute_result"
    }
   ],
   "source": [
    "mylist[1:]"
   ]
  },
  {
   "cell_type": "code",
   "execution_count": null,
   "id": "edfd7496",
   "metadata": {},
   "outputs": [],
   "source": []
  }
 ],
 "metadata": {
  "kernelspec": {
   "display_name": "Python 3 (ipykernel)",
   "language": "python",
   "name": "python3"
  },
  "language_info": {
   "codemirror_mode": {
    "name": "ipython",
    "version": 3
   },
   "file_extension": ".py",
   "mimetype": "text/x-python",
   "name": "python",
   "nbconvert_exporter": "python",
   "pygments_lexer": "ipython3",
   "version": "3.10.9"
  }
 },
 "nbformat": 4,
 "nbformat_minor": 5
}
