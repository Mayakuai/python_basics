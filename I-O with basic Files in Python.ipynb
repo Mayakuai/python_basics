{
 "cells": [
  {
   "cell_type": "code",
   "execution_count": 8,
   "id": "8871f53b",
   "metadata": {},
   "outputs": [
    {
     "name": "stdout",
     "output_type": "stream",
     "text": [
      "Overwriting myfile.txt\n"
     ]
    }
   ],
   "source": [
    "%%writefile myfile.txt\n",
    "Hello this is a text file\n",
    "this is the second line\n",
    "this is the third line"
   ]
  },
  {
   "cell_type": "code",
   "execution_count": 9,
   "id": "25c339a4",
   "metadata": {},
   "outputs": [],
   "source": [
    "myfile =open('myfile.txt')"
   ]
  },
  {
   "cell_type": "code",
   "execution_count": 10,
   "id": "4ba3822a",
   "metadata": {},
   "outputs": [
    {
     "data": {
      "text/plain": [
       "'C:\\\\Users\\\\juroj\\\\My Python Stuff'"
      ]
     },
     "execution_count": 10,
     "metadata": {},
     "output_type": "execute_result"
    }
   ],
   "source": [
    "pwd #print your working directory"
   ]
  },
  {
   "cell_type": "code",
   "execution_count": 11,
   "id": "0b0ff8c5",
   "metadata": {},
   "outputs": [],
   "source": [
    "myfile = open('myfile.txt')"
   ]
  },
  {
   "cell_type": "code",
   "execution_count": 12,
   "id": "5457d19e",
   "metadata": {},
   "outputs": [
    {
     "data": {
      "text/plain": [
       "'Hello this is a text file\\nthis is the second line\\nthis is the third line\\n'"
      ]
     },
     "execution_count": 12,
     "metadata": {},
     "output_type": "execute_result"
    }
   ],
   "source": [
    "myfile.read()  "
   ]
  },
  {
   "cell_type": "markdown",
   "id": "a8002a2d",
   "metadata": {},
   "source": [
    " the \\n denotes a new line"
   ]
  },
  {
   "cell_type": "code",
   "execution_count": 16,
   "id": "61fe2089",
   "metadata": {},
   "outputs": [
    {
     "data": {
      "text/plain": [
       "''"
      ]
     },
     "execution_count": 16,
     "metadata": {},
     "output_type": "execute_result"
    }
   ],
   "source": [
    "myfile.read()  #can't read a file twice, need to reset the currser "
   ]
  },
  {
   "cell_type": "code",
   "execution_count": 19,
   "id": "a7fe1a65",
   "metadata": {},
   "outputs": [
    {
     "data": {
      "text/plain": [
       "0"
      ]
     },
     "execution_count": 19,
     "metadata": {},
     "output_type": "execute_result"
    }
   ],
   "source": [
    "myfile.seek(0)"
   ]
  },
  {
   "cell_type": "code",
   "execution_count": 20,
   "id": "6a1b83cb",
   "metadata": {},
   "outputs": [],
   "source": [
    "contents = myfile.read()"
   ]
  },
  {
   "cell_type": "code",
   "execution_count": 21,
   "id": "749d617c",
   "metadata": {},
   "outputs": [
    {
     "data": {
      "text/plain": [
       "'Hello this is a text file\\nthis is the second line\\nthis is the third line\\n'"
      ]
     },
     "execution_count": 21,
     "metadata": {},
     "output_type": "execute_result"
    }
   ],
   "source": [
    "contents"
   ]
  },
  {
   "cell_type": "code",
   "execution_count": 22,
   "id": "2fbb48d7",
   "metadata": {},
   "outputs": [
    {
     "data": {
      "text/plain": [
       "0"
      ]
     },
     "execution_count": 22,
     "metadata": {},
     "output_type": "execute_result"
    }
   ],
   "source": [
    "myfile.seek(0)"
   ]
  },
  {
   "cell_type": "code",
   "execution_count": 23,
   "id": "da00d76e",
   "metadata": {},
   "outputs": [
    {
     "data": {
      "text/plain": [
       "['Hello this is a text file\\n',\n",
       " 'this is the second line\\n',\n",
       " 'this is the third line\\n']"
      ]
     },
     "execution_count": 23,
     "metadata": {},
     "output_type": "execute_result"
    }
   ],
   "source": [
    "myfile.readlines()"
   ]
  },
  {
   "cell_type": "code",
   "execution_count": 24,
   "id": "4bf062d0",
   "metadata": {},
   "outputs": [],
   "source": [
    "myfile.close()\n"
   ]
  },
  {
   "cell_type": "code",
   "execution_count": 25,
   "id": "6283b622",
   "metadata": {},
   "outputs": [],
   "source": [
    "myfile = open('myfile.txt')"
   ]
  },
  {
   "cell_type": "code",
   "execution_count": 26,
   "id": "8615a376",
   "metadata": {},
   "outputs": [],
   "source": [
    "myfile.close()"
   ]
  },
  {
   "cell_type": "code",
   "execution_count": 28,
   "id": "ffc7f816",
   "metadata": {},
   "outputs": [],
   "source": [
    "with open('myfile.txt') as my_new_file:\n",
    "    contents = my_new_file.read()"
   ]
  },
  {
   "cell_type": "code",
   "execution_count": 29,
   "id": "ba10f6f2",
   "metadata": {},
   "outputs": [
    {
     "data": {
      "text/plain": [
       "'Hello this is a text file\\nthis is the second line\\nthis is the third line\\n'"
      ]
     },
     "execution_count": 29,
     "metadata": {},
     "output_type": "execute_result"
    }
   ],
   "source": [
    "contents"
   ]
  },
  {
   "cell_type": "code",
   "execution_count": 31,
   "id": "7294595f",
   "metadata": {},
   "outputs": [],
   "source": [
    "with open('myfile.txt', mode='w',) as myfile:\n",
    "    contents = myfile.read()"
   ]
  },
  {
   "cell_type": "code",
   "execution_count": 32,
   "id": "ee1a5e04",
   "metadata": {},
   "outputs": [
    {
     "data": {
      "text/plain": [
       "'Hello this is a text file\\nthis is the second line\\nthis is the third line\\n'"
      ]
     },
     "execution_count": 32,
     "metadata": {},
     "output_type": "execute_result"
    }
   ],
   "source": [
    "contents"
   ]
  },
  {
   "cell_type": "code",
   "execution_count": 65,
   "id": "8b342d84",
   "metadata": {},
   "outputs": [
    {
     "ename": "UnsupportedOperation",
     "evalue": "not readable",
     "output_type": "error",
     "traceback": [
      "\u001b[1;31m---------------------------------------------------------------------------\u001b[0m",
      "\u001b[1;31mUnsupportedOperation\u001b[0m                      Traceback (most recent call last)",
      "Cell \u001b[1;32mIn[65], line 2\u001b[0m\n\u001b[0;32m      1\u001b[0m \u001b[38;5;28;01mwith\u001b[39;00m \u001b[38;5;28mopen\u001b[39m(\u001b[38;5;124m'\u001b[39m\u001b[38;5;124mmyfile.txt\u001b[39m\u001b[38;5;124m'\u001b[39m, mode\u001b[38;5;241m=\u001b[39m\u001b[38;5;124m'\u001b[39m\u001b[38;5;124mw\u001b[39m\u001b[38;5;124m'\u001b[39m) \u001b[38;5;28;01mas\u001b[39;00m myfile:\n\u001b[1;32m----> 2\u001b[0m     contents \u001b[38;5;241m=\u001b[39m \u001b[43mmyfile\u001b[49m\u001b[38;5;241;43m.\u001b[39;49m\u001b[43mread\u001b[49m\u001b[43m(\u001b[49m\u001b[43m)\u001b[49m\n",
      "\u001b[1;31mUnsupportedOperation\u001b[0m: not readable"
     ]
    }
   ],
   "source": [
    "with open('myfile.txt', mode='w') as myfile:\n",
    "    contents = myfile.read()"
   ]
  },
  {
   "cell_type": "markdown",
   "id": "427902a7",
   "metadata": {},
   "source": [
    "Reading, Writing, Appending Modes"
   ]
  },
  {
   "cell_type": "markdown",
   "id": "a91fbae9",
   "metadata": {},
   "source": [
    "mode='r' is read only"
   ]
  },
  {
   "cell_type": "markdown",
   "id": "eb704d5f",
   "metadata": {},
   "source": [
    "mode='w' is write only (will overwrite file or create new!)"
   ]
  },
  {
   "cell_type": "markdown",
   "id": "71d5ee0e",
   "metadata": {},
   "source": [
    "mode='a'is append only (will add on files)"
   ]
  },
  {
   "cell_type": "markdown",
   "id": "01aec6a5",
   "metadata": {},
   "source": [
    "mode='r+' is reading and writing"
   ]
  },
  {
   "cell_type": "markdown",
   "id": "53188d90",
   "metadata": {},
   "source": [
    "mode='wr' is writing and reading (Overwrites existing files or creates a new file!)"
   ]
  },
  {
   "cell_type": "code",
   "execution_count": 40,
   "id": "83cf21cc",
   "metadata": {},
   "outputs": [
    {
     "name": "stdout",
     "output_type": "stream",
     "text": [
      "Overwriting my_new_file.txt\n"
     ]
    }
   ],
   "source": [
    "%%writefile my_new_file.txt\n",
    "ONE ON FIRST\n",
    "TWO ON SECOND\n",
    "THREE ON THRID"
   ]
  },
  {
   "cell_type": "code",
   "execution_count": 41,
   "id": "c0834e29",
   "metadata": {},
   "outputs": [
    {
     "name": "stdout",
     "output_type": "stream",
     "text": [
      "ONE ON FIRST\n",
      "TWO ON SECOND\n",
      "THREE ON THRID\n",
      "\n"
     ]
    }
   ],
   "source": [
    "with open('my_new_file.txt', mode='r') as f:\n",
    "    print(f.read())"
   ]
  },
  {
   "cell_type": "code",
   "execution_count": 58,
   "id": "064d7e0a",
   "metadata": {},
   "outputs": [],
   "source": [
    "with open('my_new_file.txt', mode='a') as f:\n",
    "    f.write('\\nFOUR ON FOURTH')"
   ]
  },
  {
   "cell_type": "code",
   "execution_count": 59,
   "id": "2ac770e7",
   "metadata": {},
   "outputs": [
    {
     "name": "stdout",
     "output_type": "stream",
     "text": [
      "ONE ON FIRST\n",
      "TWO ON SECOND\n",
      "THREE ON THRID\n",
      "FOUR ON FOURTH\n",
      "FOUR ON FOURTH\n"
     ]
    }
   ],
   "source": [
    "with open('my_new_file.txt', mode='r') as f:\n",
    "    print(f.read())"
   ]
  },
  {
   "cell_type": "code",
   "execution_count": 60,
   "id": "c8065d20",
   "metadata": {},
   "outputs": [],
   "source": [
    "with open('afsdfsdfdsf.txt', mode='w') as f:\n",
    "    f.write('I created this file!')"
   ]
  },
  {
   "cell_type": "code",
   "execution_count": 64,
   "id": "ecc3bb13",
   "metadata": {},
   "outputs": [
    {
     "name": "stdout",
     "output_type": "stream",
     "text": [
      "I created this file!\n"
     ]
    }
   ],
   "source": [
    "with open('afsdfsdfdsf.txt', mode='r') as f:\n",
    "    print(f.read())"
   ]
  },
  {
   "cell_type": "code",
   "execution_count": null,
   "id": "c482c215",
   "metadata": {},
   "outputs": [],
   "source": []
  }
 ],
 "metadata": {
  "kernelspec": {
   "display_name": "Python 3 (ipykernel)",
   "language": "python",
   "name": "python3"
  },
  "language_info": {
   "codemirror_mode": {
    "name": "ipython",
    "version": 3
   },
   "file_extension": ".py",
   "mimetype": "text/x-python",
   "name": "python",
   "nbconvert_exporter": "python",
   "pygments_lexer": "ipython3",
   "version": "3.10.9"
  }
 },
 "nbformat": 4,
 "nbformat_minor": 5
}
